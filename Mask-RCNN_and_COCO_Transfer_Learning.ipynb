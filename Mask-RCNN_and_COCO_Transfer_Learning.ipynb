{
  "cells": [
    {
      "cell_type": "markdown",
      "source": [
        "### Install Matterport's Mask-RCNN model from GitHub."
      ],
      "metadata": {
        "id": "x1mKit6glsQX"
      },
      "id": "x1mKit6glsQX"
    },
    {
      "cell_type": "code",
      "execution_count": null,
      "id": "tough-concentration",
      "metadata": {
        "id": "tough-concentration"
      },
      "outputs": [],
      "source": [
        "# !git clone https://github.com/matterport/Mask_RCNN.git"
      ]
    },
    {
      "cell_type": "code",
      "source": [
        "%cd Mask_RCNN"
      ],
      "metadata": {
        "id": "msxsUku8k85y",
        "outputId": "94c34719-225d-464d-f648-a62a74f0eb95",
        "colab": {
          "base_uri": "https://localhost:8080/"
        }
      },
      "id": "msxsUku8k85y",
      "execution_count": 5,
      "outputs": [
        {
          "output_type": "stream",
          "name": "stdout",
          "text": [
            "/content/Mask_RCNN\n"
          ]
        }
      ]
    },
    {
      "cell_type": "code",
      "source": [
        "import os\n",
        "import sys\n",
        "import random\n",
        "import math\n",
        "import numpy as np\n",
        "import skimage.io\n",
        "import matplotlib\n",
        "import matplotlib.pyplot as plt\n",
        "%matplotlib inline "
      ],
      "metadata": {
        "id": "JNG1v-vMk_l6"
      },
      "id": "JNG1v-vMk_l6",
      "execution_count": 6,
      "outputs": []
    },
    {
      "cell_type": "code",
      "source": [
        "# Root directory of the project\n",
        "ROOT_DIR = os.path.abspath(\"../\")\n",
        "\n",
        "# Import Mask RCNN\n",
        "sys.path.append(ROOT_DIR)  # To find local version of the library\n",
        "from mrcnn.config import Config\n",
        "from mrcnn import utils\n",
        "import mrcnn.model as modellib\n",
        "from mrcnn import visualize\n",
        "from mrcnn.model import log"
      ],
      "metadata": {
        "id": "ABC10vhTlTam"
      },
      "id": "ABC10vhTlTam",
      "execution_count": 7,
      "outputs": []
    },
    {
      "cell_type": "markdown",
      "source": [
        "### Download COCO Pre-trained weights"
      ],
      "metadata": {
        "id": "I60OVBWhlazG"
      },
      "id": "I60OVBWhlazG"
    },
    {
      "cell_type": "code",
      "source": [
        "# Path to trained weights file\n",
        "COCO_WEIGHTS_PATH = os.path.join(ROOT_DIR, \"mask_rcnn_coco.h5\")\n",
        "# Download COCO trained weights from Releases if needed\n",
        "if not os.path.exists(COCO_MODEL_PATH):\n",
        "    utils.download_trained_weights(COCO_MODEL_PATH)\n",
        "\n",
        "# Directory to save logs and model checkpoints, if not provided\n",
        "# through the command line argument --logs\n",
        "DEFAULT_LOGS_DIR = os.path.join(ROOT_DIR, \"logs\")"
      ],
      "metadata": {
        "id": "gZ6AgeIJlJo0"
      },
      "id": "gZ6AgeIJlJo0",
      "execution_count": null,
      "outputs": []
    },
    {
      "cell_type": "code",
      "source": [],
      "metadata": {
        "id": "HeqlF9dulaQ_"
      },
      "id": "HeqlF9dulaQ_",
      "execution_count": null,
      "outputs": []
    },
    {
      "cell_type": "code",
      "source": [],
      "metadata": {
        "id": "x1x2dnQFlaTE"
      },
      "id": "x1x2dnQFlaTE",
      "execution_count": null,
      "outputs": []
    }
  ],
  "metadata": {
    "kernelspec": {
      "display_name": "Python 3",
      "language": "python",
      "name": "python3"
    },
    "language_info": {
      "codemirror_mode": {
        "name": "ipython",
        "version": 3
      },
      "file_extension": ".py",
      "mimetype": "text/x-python",
      "name": "python",
      "nbconvert_exporter": "python",
      "pygments_lexer": "ipython3",
      "version": "3.8.8"
    },
    "colab": {
      "provenance": []
    }
  },
  "nbformat": 4,
  "nbformat_minor": 5
}